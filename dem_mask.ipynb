{
 "cells": [
  {
   "cell_type": "code",
   "execution_count": 22,
   "metadata": {},
   "outputs": [],
   "source": [
    "import os\n",
    "import leafmap\n",
    "from samgeo import SamGeo, tms_to_geotiff, get_basemaps\n",
    "import rasterio\n",
    "from pyproj import Transformer\n",
    "import numpy as np\n",
    "import matplotlib.pyplot as plt"
   ]
  },
  {
   "cell_type": "code",
   "execution_count": 23,
   "metadata": {},
   "outputs": [],
   "source": [
    "def get_bounding_box(geotiff_path):\n",
    "    with rasterio.open(geotiff_path) as dataset:\n",
    "\n",
    "        transform = dataset.transform\n",
    "        width = dataset.width\n",
    "        height = dataset.height\n",
    "        \n",
    "        crs = dataset.crs\n",
    "\n",
    "        transformer = Transformer.from_crs(crs, \"EPSG:4326\", always_xy=True)\n",
    "\n",
    "        top_left = (transform.c, transform.f)\n",
    "        bottom_right = (transform * (width, height))\n",
    "        \n",
    "        min_x, max_y = top_left\n",
    "        max_x, min_y = bottom_right\n",
    "        min_lon, max_lat = transformer.transform(min_x, max_y)\n",
    "        max_lon, min_lat = transformer.transform(max_x, min_y)\n",
    "        \n",
    "        # Return bounding box in lat/lon\n",
    "        return (min_lon, min_lat, max_lon, max_lat)\n",
    "    \n",
    "\n",
    "\n",
    "def normalize_to_uint8(input_path, output_path): #samgeo requires uint8 for some reason \n",
    "\n",
    "    with rasterio.open(input_path) as src:\n",
    "        img_data = src.read([2,3,4])\n",
    "        profile = src.profile\n",
    "\n",
    "        img_data_norm = np.zeros_like(img_data, dtype=np.uint8)\n",
    "        for i in range(img_data.shape[0]): \n",
    "            img_data_norm[i] = np.interp(img_data[i], (img_data[i].min(), img_data[i].max()), (0, 255)).astype(np.uint8)\n",
    "\n",
    "        profile.update(dtype=rasterio.uint8, count=3)\n",
    "        with rasterio.open(output_path, 'w', **profile) as dst:\n",
    "            dst.write(img_data_norm)\n",
    "\n",
    "    print(f\"Image saved as {output_path}\")\n",
    "\n"
   ]
  },
  {
   "cell_type": "code",
   "execution_count": null,
   "metadata": {},
   "outputs": [],
   "source": [
    "#This is adapted from: https://samgeo.gishub.org/examples/satellite/ , but im not sure how the leafmap module works. \n",
    "\n",
    "image = r'/mnt/c/Users/attic/planet_mask/PlanetScope_VarietyCoaslines/20201007_173159_88_2206_3B_AnalyticMS_SR_8b_harmonized_clip.tif'\n",
    "bbox = get_bounding_box(image)\n",
    "print(bbox)\n",
    "\n",
    "m = leafmap.Map(center=[bbox[0], bbox[1]], zoom=19)\n",
    "m.add_basemap(\"SATELLITE\")\n",
    "m\n"
   ]
  },
  {
   "cell_type": "code",
   "execution_count": null,
   "metadata": {},
   "outputs": [],
   "source": [
    "tms_to_geotiff(output=image, bbox=[bbox[0],bbox[1],bbox[2],bbox[3]], zoom=20, source=\"Satellite\", overwrite=True)"
   ]
  },
  {
   "cell_type": "code",
   "execution_count": null,
   "metadata": {},
   "outputs": [],
   "source": [
    "m.layers[-1].visible = False  # turn off the basemap\n",
    "m.add_raster(image)\n",
    "m"
   ]
  },
  {
   "cell_type": "code",
   "execution_count": 26,
   "metadata": {},
   "outputs": [],
   "source": [
    "sam = SamGeo(\n",
    "    model_type=\"vit_h\",\n",
    "    checkpoint=\"sam_vit_h_4b8939.pth\",\n",
    "    sam_kwargs=None,\n",
    ")"
   ]
  },
  {
   "cell_type": "code",
   "execution_count": null,
   "metadata": {},
   "outputs": [],
   "source": [
    "\n",
    "file_path ='/mnt/c/Users/attic/planet_mask/PlanetScope_VarietyCoaslines'\n",
    "image = r'20201007_173159_88_2206_3B_AnalyticMS_SR_8b_harmonized_clip.tif'\n",
    "image_path = os.path.join(file_path,image)\n",
    "output_image = os.path.join('/mnt/c/Users/attic/planet_mask/planet_8bit',image)\n",
    "normalize_to_uint8(image_path, output_image)"
   ]
  },
  {
   "cell_type": "code",
   "execution_count": 31,
   "metadata": {},
   "outputs": [],
   "source": [
    "mask = f\"segmented_{image}\"\n",
    "sam.generate(\n",
    "    output_image, mask,foreground=True, mask_multiplier=255\n",
    ")"
   ]
  },
  {
   "cell_type": "code",
   "execution_count": null,
   "metadata": {},
   "outputs": [],
   "source": [
    "with rasterio.open(mask,'r') as src:\n",
    "    img = src.read()\n",
    "plt.figure(figsize=(10,10))\n",
    "plt.imshow(img[0])\n",
    "plt.colorbar()\n",
    "plt.show()"
   ]
  }
 ],
 "metadata": {
  "kernelspec": {
   "display_name": "hls_env",
   "language": "python",
   "name": "python3"
  },
  "language_info": {
   "codemirror_mode": {
    "name": "ipython",
    "version": 3
   },
   "file_extension": ".py",
   "mimetype": "text/x-python",
   "name": "python",
   "nbconvert_exporter": "python",
   "pygments_lexer": "ipython3",
   "version": "3.9.19"
  }
 },
 "nbformat": 4,
 "nbformat_minor": 2
}
